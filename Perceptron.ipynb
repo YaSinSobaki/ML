{
 "cells": [
  {
   "cell_type": "markdown",
   "id": "5f5ba0fe-98e5-4112-b7ff-0296f16e6c50",
   "metadata": {},
   "source": [
    "Hi brtother)"
   ]
  },
  {
   "cell_type": "code",
   "execution_count": null,
   "id": "76ddb675-3f43-4a52-bcfb-9f25ba593c54",
   "metadata": {},
   "outputs": [],
   "source": []
  }
 ],
 "metadata": {
  "kernelspec": {
   "display_name": "Python 3 (ipykernel)",
   "language": "python",
   "name": "python3"
  },
  "language_info": {
   "codemirror_mode": {
    "name": "ipython",
    "version": 3
   },
   "file_extension": ".py",
   "mimetype": "text/x-python",
   "name": "python",
   "nbconvert_exporter": "python",
   "pygments_lexer": "ipython3",
   "version": "3.10.0"
  }
 },
 "nbformat": 4,
 "nbformat_minor": 5
}
